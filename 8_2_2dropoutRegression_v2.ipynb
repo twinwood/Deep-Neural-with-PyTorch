{
  "nbformat": 4,
  "nbformat_minor": 0,
  "metadata": {
    "kernelspec": {
      "display_name": "Python 3",
      "language": "python",
      "name": "python3"
    },
    "language_info": {
      "codemirror_mode": {
        "name": "ipython",
        "version": 3
      },
      "file_extension": ".py",
      "mimetype": "text/x-python",
      "name": "python",
      "nbconvert_exporter": "python",
      "pygments_lexer": "ipython3",
      "version": "3.7.6"
    },
    "colab": {
      "name": "8.2.2dropoutRegression_v2.ipynb",
      "provenance": [],
      "collapsed_sections": [],
      "include_colab_link": true
    }
  },
  "cells": [
    {
      "cell_type": "markdown",
      "metadata": {
        "id": "view-in-github",
        "colab_type": "text"
      },
      "source": [
        "<a href=\"https://colab.research.google.com/github/twinwood/Deep-Neural-with-Pytorch/blob/main/8_2_2dropoutRegression_v2.ipynb\" target=\"_parent\"><img src=\"https://colab.research.google.com/assets/colab-badge.svg\" alt=\"Open In Colab\"/></a>"
      ]
    },
    {
      "cell_type": "markdown",
      "metadata": {
        "id": "7AOYMkA3PU0d"
      },
      "source": [
        "<center>\n",
        "    <img src=\"https://cf-courses-data.s3.us.cloud-object-storage.appdomain.cloud/IBMDeveloperSkillsNetwork-DL0110EN-SkillsNetwork/Template/module%201/images/IDSNlogo.png\" width=\"300\" alt=\"cognitiveclass.ai logo\"  />\n",
        "</center>\n"
      ]
    },
    {
      "cell_type": "markdown",
      "metadata": {
        "id": "4ESVUitBPU0j"
      },
      "source": [
        "<h1>Using Dropout in Regression</h1>\n"
      ]
    },
    {
      "cell_type": "markdown",
      "metadata": {
        "id": "k5hqyQkYPU0k"
      },
      "source": [
        "<h3>Objective for this Notebook<h3>    \n",
        "<h5> 1. Create the Model and Cost Function the PyTorch way.</h5>\n",
        "<h5> 2. Learn Batch Gradient Descent </h5>    \n"
      ]
    },
    {
      "cell_type": "markdown",
      "metadata": {
        "id": "3vaKDq4ePU0l"
      },
      "source": [
        "<h2>Table of Contents</h2>\n",
        "<p>In this lab, you will see how adding dropout to your model will decrease overfitting.</p>\n",
        "\n",
        "<ul>\n",
        "    <li><a href=\"#Makeup_Data\">Make Some Data</a></li>\n",
        "    <li><a href=\"#Model_Cost\">Create the Model and Cost Function the PyTorch way</a></li>\n",
        "    <li><a href=\"#BGD\">Batch Gradient Descent</a></li>\n",
        "</ul>\n",
        "<p>Estimated Time Needed: <strong>20 min</strong></p>\n",
        "\n",
        "<hr>\n"
      ]
    },
    {
      "cell_type": "markdown",
      "metadata": {
        "id": "AetIitqfPU0m"
      },
      "source": [
        "<h2>Preparation</h2>\n"
      ]
    },
    {
      "cell_type": "markdown",
      "metadata": {
        "id": "2aahNDpcPU0n"
      },
      "source": [
        "We'll need the following libraries\n"
      ]
    },
    {
      "cell_type": "code",
      "metadata": {
        "colab": {
          "base_uri": "https://localhost:8080/"
        },
        "id": "uLU7zbxXPU0n",
        "outputId": "f9f62357-e23a-434e-ce0f-864614b38142"
      },
      "source": [
        "# Import the libraries we need for the lab\n",
        "\n",
        "import torch\n",
        "import matplotlib.pyplot as plt\n",
        "import torch.nn as nn\n",
        "import torch.nn.functional as F\n",
        "import numpy as np\n",
        "from torch.utils.data import Dataset, DataLoader\n",
        "\n",
        "torch.manual_seed(0) "
      ],
      "execution_count": 1,
      "outputs": [
        {
          "output_type": "execute_result",
          "data": {
            "text/plain": [
              "<torch._C.Generator at 0x7f119b4ff8f0>"
            ]
          },
          "metadata": {
            "tags": []
          },
          "execution_count": 1
        }
      ]
    },
    {
      "cell_type": "markdown",
      "metadata": {
        "id": "D3f56k4PPU0o"
      },
      "source": [
        "<!--Empty Space for separating topics-->\n"
      ]
    },
    {
      "cell_type": "markdown",
      "metadata": {
        "id": "mOaaCeYlPU0p"
      },
      "source": [
        "<h2 id=\"Makeup_Data\">Make Some Data</h2>\n"
      ]
    },
    {
      "cell_type": "markdown",
      "metadata": {
        "id": "9rwW5hWqPU0p"
      },
      "source": [
        "Create polynomial dataset class: \n"
      ]
    },
    {
      "cell_type": "code",
      "metadata": {
        "id": "lN2TibN2PU0q"
      },
      "source": [
        "# Create Data object\n",
        "\n",
        "class Data(Dataset):\n",
        "    \n",
        "    # Constructor\n",
        "    def __init__(self, N_SAMPLES=40, noise_std=1, train=True):\n",
        "        self.x = torch.linspace(-1, 1, N_SAMPLES).view(-1, 1)\n",
        "        self.f = self.x ** 2\n",
        "        if train != True:\n",
        "            torch.manual_seed(1)\n",
        "            self.y = self.f + noise_std * torch.randn(self.f.size())\n",
        "            self.y = self.y.view(-1, 1)\n",
        "            torch.manual_seed(0)\n",
        "        else:\n",
        "            self.y = self.f + noise_std * torch.randn(self.f.size())\n",
        "            self.y = self.y.view(-1, 1)\n",
        "            \n",
        "    # Getter\n",
        "    def __getitem__(self, index):    \n",
        "        return self.x[index], self.y[index]\n",
        "    \n",
        "    # Get Length\n",
        "    def __len__(self):\n",
        "        return self.len\n",
        "    \n",
        "    # Plot the data\n",
        "    def plot(self):\n",
        "        plt.figure(figsize = (6.1, 10))\n",
        "        plt.scatter(self.x.numpy(), self.y.numpy(), label=\"Samples\")\n",
        "        plt.plot(self.x.numpy(), self.f.numpy() ,label=\"True Function\", color='orange')\n",
        "        plt.xlabel(\"x\")\n",
        "        plt.ylabel(\"y\")\n",
        "        plt.xlim((-1, 1))\n",
        "        plt.ylim((-2, 2.5))\n",
        "        plt.legend(loc=\"best\")\n",
        "        plt.show()"
      ],
      "execution_count": 2,
      "outputs": []
    },
    {
      "cell_type": "markdown",
      "metadata": {
        "id": "TU4IohTMPU0t"
      },
      "source": [
        "Create a dataset object:\n"
      ]
    },
    {
      "cell_type": "code",
      "metadata": {
        "colab": {
          "base_uri": "https://localhost:8080/",
          "height": 610
        },
        "id": "7aIak1MLPU0t",
        "outputId": "68dd085b-83d7-462a-a14d-e711e8080a4e"
      },
      "source": [
        "# Create the dataset object and plot the dataset\n",
        "\n",
        "data_set = Data()\n",
        "data_set.plot()"
      ],
      "execution_count": 5,
      "outputs": [
        {
          "output_type": "display_data",
          "data": {
            "image/png": "[encoded data removed]",
            "text/plain": [
              "<Figure size 439.2x720 with 1 Axes>"
            ]
          },
          "metadata": {
            "tags": [],
            "needs_background": "light"
          }
        }
      ]
    },
    {
      "cell_type": "markdown",
      "metadata": {
        "id": "SunXWd8VPU0t"
      },
      "source": [
        "Get some validation data: \n"
      ]
    },
    {
      "cell_type": "code",
      "metadata": {
        "id": "-vJ1ZQNSPU0u"
      },
      "source": [
        "# Create validation dataset object\n",
        "\n",
        "validation_set = Data(train=False)"
      ],
      "execution_count": 6,
      "outputs": []
    },
    {
      "cell_type": "markdown",
      "metadata": {
        "id": "zGov3TXiPU0u"
      },
      "source": [
        "<!--Empty Space for separating topics-->\n"
      ]
    },
    {
      "cell_type": "markdown",
      "metadata": {
        "id": "MBSFJbXWPU0u"
      },
      "source": [
        "<h2 id=\"Model_Cost\">Create the Model, Optimizer, and Total Loss Function (Cost)</h2>\n"
      ]
    },
    {
      "cell_type": "markdown",
      "metadata": {
        "id": "OiEsQ1GJPU0v"
      },
      "source": [
        "Create a custom module with three layers. <code>in_size</code> is the size of the input features, <code>n_hidden</code> is the size of the layers, and <code>out_size</code> is the size. <code>p</code> is dropout probability. The default is 0 which is no dropout.\n"
      ]
    },
    {
      "cell_type": "code",
      "metadata": {
        "id": "KBj-hDFjPU0v"
      },
      "source": [
        "# Create the class for model\n",
        "\n",
        "class Net(nn.Module):\n",
        "    \n",
        "    # Constructor\n",
        "    def __init__(self, in_size, n_hidden, out_size, p=0):\n",
        "        super(Net, self).__init__()\n",
        "        self.drop = nn.Dropout(p=p)\n",
        "        self.linear1 = nn.Linear(in_size, n_hidden)\n",
        "        self.linear2 = nn.Linear(n_hidden, n_hidden)\n",
        "        self.linear3 = nn.Linear(n_hidden, out_size)\n",
        "        \n",
        "    def forward(self, x):\n",
        "        x = F.relu(self.drop(self.linear1(x)))\n",
        "        x = F.relu(self.drop(self.linear2(x)))\n",
        "        x = self.linear3(x)\n",
        "        return x"
      ],
      "execution_count": 7,
      "outputs": []
    },
    {
      "cell_type": "markdown",
      "metadata": {
        "id": "LhiEOkBDPU0w"
      },
      "source": [
        "Create two model objects: <code>model</code> had no dropout, and <code>model_drop </cdoe> has a dropout probability of 0.5:\n"
      ]
    },
    {
      "cell_type": "code",
      "metadata": {
        "id": "5yGtqfGHPU0w"
      },
      "source": [
        "# Create the model objects\n",
        "\n",
        "model = Net(1, 300, 1)\n",
        "model_drop = Net(1, 300, 1, p=0.5)"
      ],
      "execution_count": 8,
      "outputs": []
    },
    {
      "cell_type": "markdown",
      "metadata": {
        "id": "ND5qqOFEPU0w"
      },
      "source": [
        "<!--Empty Space for separating topics-->\n"
      ]
    },
    {
      "cell_type": "markdown",
      "metadata": {
        "id": "IAcq-JqiPU0x"
      },
      "source": [
        "<h2 id=\"Train\">Train the Model via Mini-Batch Gradient Descent</h2>\n"
      ]
    },
    {
      "cell_type": "markdown",
      "metadata": {
        "id": "DWWvIZVRPU0x"
      },
      "source": [
        "Set the model using dropout to training mode; this is the default mode, but it's good practice. \n"
      ]
    },
    {
      "cell_type": "code",
      "metadata": {
        "colab": {
          "base_uri": "https://localhost:8080/"
        },
        "id": "oPKwUiOgPU0x",
        "outputId": "08eb62aa-be0f-450d-bd42-1314a654e5da"
      },
      "source": [
        "# Set the model to train mode\n",
        "\n",
        "model_drop.train()"
      ],
      "execution_count": 9,
      "outputs": [
        {
          "output_type": "execute_result",
          "data": {
            "text/plain": [
              "Net(\n",
              "  (drop): Dropout(p=0.5, inplace=False)\n",
              "  (linear1): Linear(in_features=1, out_features=300, bias=True)\n",
              "  (linear2): Linear(in_features=300, out_features=300, bias=True)\n",
              "  (linear3): Linear(in_features=300, out_features=1, bias=True)\n",
              ")"
            ]
          },
          "metadata": {
            "tags": []
          },
          "execution_count": 9
        }
      ]
    },
    {
      "cell_type": "markdown",
      "metadata": {
        "id": "ueWEn481PU0y"
      },
      "source": [
        "Train the model by using the Adam optimizer. See the unit on other optimizers. Use the mean square loss: \n"
      ]
    },
    {
      "cell_type": "code",
      "metadata": {
        "id": "fm-LNhHUPU0y"
      },
      "source": [
        "# Set the optimizer and criterion function\n",
        "\n",
        "optimizer_ofit = torch.optim.Adam(model.parameters(), lr=0.01)\n",
        "optimizer_drop = torch.optim.Adam(model_drop.parameters(), lr=0.01)\n",
        "criterion = torch.nn.MSELoss()"
      ],
      "execution_count": 10,
      "outputs": []
    },
    {
      "cell_type": "markdown",
      "metadata": {
        "id": "1FTMXKeZPU0y"
      },
      "source": [
        "Initialize a dictionary that stores the training and validation loss for each model:\n"
      ]
    },
    {
      "cell_type": "code",
      "metadata": {
        "id": "PoIb0AFhPU0y"
      },
      "source": [
        "# Initialize the dict to contain the loss results\n",
        "\n",
        "LOSS={}\n",
        "LOSS['training data no dropout']=[]\n",
        "LOSS['validation data no dropout']=[]\n",
        "LOSS['training data dropout']=[]\n",
        "LOSS['validation data dropout']=[]"
      ],
      "execution_count": 11,
      "outputs": []
    },
    {
      "cell_type": "markdown",
      "metadata": {
        "id": "Iahxghl8PU0z"
      },
      "source": [
        "Run 500 iterations of batch gradient descent: \n"
      ]
    },
    {
      "cell_type": "code",
      "metadata": {
        "id": "H4b-APybPU0z"
      },
      "source": [
        "# Train the model\n",
        "\n",
        "epochs = 500\n",
        "\n",
        "def train_model(epochs):\n",
        "    for epoch in range(epochs):\n",
        "        yhat = model(data_set.x)\n",
        "        yhat_drop = model_drop(data_set.x)\n",
        "        loss = criterion(yhat, data_set.y)\n",
        "        loss_drop = criterion(yhat_drop, data_set.y)\n",
        "\n",
        "        #store the loss for  both the training and validation  data for both models \n",
        "        LOSS['training data no dropout'].append(loss.item())\n",
        "        LOSS['validation data no dropout'].append(criterion(model(validation_set.x), validation_set.y).item())\n",
        "        LOSS['training data dropout'].append(loss_drop.item())\n",
        "        model_drop.eval()\n",
        "        LOSS['validation data dropout'].append(criterion(model_drop(validation_set.x), validation_set.y).item())\n",
        "        model_drop.train()\n",
        "\n",
        "        optimizer_ofit.zero_grad()\n",
        "        optimizer_drop.zero_grad()\n",
        "        loss.backward()\n",
        "        loss_drop.backward()\n",
        "        optimizer_ofit.step()\n",
        "        optimizer_drop.step()\n",
        "        \n",
        "train_model(epochs)"
      ],
      "execution_count": 12,
      "outputs": []
    },
    {
      "cell_type": "markdown",
      "metadata": {
        "id": "VHhz9YNEPU0z"
      },
      "source": [
        "Set the model with dropout to evaluation mode:\n"
      ]
    },
    {
      "cell_type": "code",
      "metadata": {
        "colab": {
          "base_uri": "https://localhost:8080/"
        },
        "id": "FhxON9y8PU0z",
        "outputId": "fce6598e-f4eb-4ced-d20d-c13c29b0a7c8"
      },
      "source": [
        "# Set the model with dropout to evaluation mode\n",
        "\n",
        "model_drop.eval()"
      ],
      "execution_count": 13,
      "outputs": [
        {
          "output_type": "execute_result",
          "data": {
            "text/plain": [
              "Net(\n",
              "  (drop): Dropout(p=0.5, inplace=False)\n",
              "  (linear1): Linear(in_features=1, out_features=300, bias=True)\n",
              "  (linear2): Linear(in_features=300, out_features=300, bias=True)\n",
              "  (linear3): Linear(in_features=300, out_features=1, bias=True)\n",
              ")"
            ]
          },
          "metadata": {
            "tags": []
          },
          "execution_count": 13
        }
      ]
    },
    {
      "cell_type": "markdown",
      "metadata": {
        "id": "xdhEMouaPU00"
      },
      "source": [
        "Make a prediction by using both models: \n"
      ]
    },
    {
      "cell_type": "code",
      "metadata": {
        "id": "XFMg84_ZPU00"
      },
      "source": [
        "# Make the prediction\n",
        "\n",
        "yhat = model(data_set.x)\n",
        "yhat_drop = model_drop(data_set.x)"
      ],
      "execution_count": 14,
      "outputs": []
    },
    {
      "cell_type": "markdown",
      "metadata": {
        "id": "MLMsR1JEPU01"
      },
      "source": [
        "Plot predictions of both models. Compare them to the training points and the true function: \n"
      ]
    },
    {
      "cell_type": "code",
      "metadata": {
        "colab": {
          "base_uri": "https://localhost:8080/",
          "height": 610
        },
        "id": "0mFk0qDcPU01",
        "outputId": "dffd1d4b-1480-4fdc-ab72-f46932ddb5cd"
      },
      "source": [
        "# Plot the predictions for both models\n",
        "\n",
        "plt.figure(figsize=(6.1, 10))\n",
        "\n",
        "plt.scatter(data_set.x.numpy(), data_set.y.numpy(), label=\"Samples\")\n",
        "plt.plot(data_set.x.numpy(), data_set.f.numpy(), label=\"True function\", color='orange')\n",
        "plt.plot(data_set.x.numpy(), yhat.detach().numpy(), label='no dropout', c='r')\n",
        "plt.plot(data_set.x.numpy(), yhat_drop.detach().numpy(), label=\"dropout\", c ='g')\n",
        "\n",
        "plt.xlabel(\"x\")\n",
        "plt.ylabel(\"y\")\n",
        "plt.xlim((-1, 1))\n",
        "plt.ylim((-2, 2.5))\n",
        "plt.legend(loc = \"best\")\n",
        "plt.show()"
      ],
      "execution_count": 15,
      "outputs": [
        {
          "output_type": "display_data",
          "data": {
            "image/png": "[encoded data removed]",
            "text/plain": [
              "<Figure size 439.2x720 with 1 Axes>"
            ]
          },
          "metadata": {
            "tags": [],
            "needs_background": "light"
          }
        }
      ]
    },
    {
      "cell_type": "markdown",
      "metadata": {
        "id": "DK-lJw1ZPU01"
      },
      "source": [
        "You can see that the model using dropout does better at tracking the function that generated the data. We use the log to make the difference more apparent \n"
      ]
    },
    {
      "cell_type": "markdown",
      "metadata": {
        "id": "uW_bMSd-PU01"
      },
      "source": [
        "Plot out the loss for training and validation data on both models:  \n"
      ]
    },
    {
      "cell_type": "code",
      "metadata": {
        "colab": {
          "base_uri": "https://localhost:8080/",
          "height": 606
        },
        "id": "3sKRorfsPU01",
        "outputId": "5d9443bd-35f8-4fce-cb89-df2fe5632bd1"
      },
      "source": [
        "# Plot the loss\n",
        "\n",
        "plt.figure(figsize=(6.1, 10))\n",
        "for key, value in LOSS.items():\n",
        "    plt.plot(np.log(np.array(value)), label=key)\n",
        "    plt.legend()\n",
        "    plt.xlabel(\"iterations\")\n",
        "    plt.ylabel(\"Log of cost or total loss\")"
      ],
      "execution_count": 16,
      "outputs": [
        {
          "output_type": "display_data",
          "data": {
            "image/png": "[encoded data removed]",
            "text/plain": [
              "<Figure size 439.2x720 with 1 Axes>"
            ]
          },
          "metadata": {
            "tags": [],
            "needs_background": "light"
          }
        }
      ]
    },
    {
      "cell_type": "markdown",
      "metadata": {
        "id": "2PESYTy0PU02"
      },
      "source": [
        "You see that the model without dropout performs better on the training data, but it performs worse on the validation data. This suggests overfitting.  However, the model using dropout performs better on the validation data, but worse on the training data. \n"
      ]
    },
    {
      "cell_type": "markdown",
      "metadata": {
        "id": "3lbJ2SPtPU02"
      },
      "source": [
        "<a href=\"https://dataplatform.cloud.ibm.com/registration/stepone?context=cpdaas&apps=data_science_experience,watson_machine_learning\"><img src=\"https://cf-courses-data.s3.us.cloud-object-storage.appdomain.cloud/IBMDeveloperSkillsNetwork-DL0110EN-SkillsNetwork/Template/module%201/images/Watson_Studio.png\"/></a>\n"
      ]
    },
    {
      "cell_type": "markdown",
      "metadata": {
        "id": "VK6Qu1WTPU02"
      },
      "source": [
        "<!--Empty Space for separating topics-->\n"
      ]
    },
    {
      "cell_type": "markdown",
      "metadata": {
        "id": "jQte7krtPU02"
      },
      "source": [
        "<h2>About the Authors:</h2> \n",
        "\n",
        "<a href=\"https://www.linkedin.com/in/joseph-s-50398b136/\">Joseph Santarcangelo</a> has a PhD in Electrical Engineering, his research focused on using machine learning, signal processing, and computer vision to determine how videos impact human cognition. Joseph has been working for IBM since he completed his PhD. \n"
      ]
    },
    {
      "cell_type": "markdown",
      "metadata": {
        "id": "bfUZ75ZKPU03"
      },
      "source": [
        "Other contributors: <a href=\"https://www.linkedin.com/in/michelleccarey/\">Michelle Carey</a>, <a href=\"www.linkedin.com/in/jiahui-mavis-zhou-a4537814a\">Mavis Zhou</a>\n"
      ]
    },
    {
      "cell_type": "markdown",
      "metadata": {
        "id": "TktMQlhBPU03"
      },
      "source": [
        "## Change Log\n",
        "\n",
        "| Date (YYYY-MM-DD) | Version | Changed By | Change Description                                          |\n",
        "| ----------------- | ------- | ---------- | ----------------------------------------------------------- |\n",
        "| 2020-09-23        | 2.0     | Srishti    | Migrated Lab to Markdown and added to course repo in GitLab |\n",
        "\n",
        "<hr>\n",
        "\n",
        "## <h3 align=\"center\"> © IBM Corporation 2020. All rights reserved. <h3/>\n"
      ]
    }
  ]
}